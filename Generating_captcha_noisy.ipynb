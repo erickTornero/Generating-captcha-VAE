{
  "nbformat": 4,
  "nbformat_minor": 0,
  "metadata": {
    "colab": {
      "name": "Generating-captcha-noisy.ipynb",
      "version": "0.3.2",
      "provenance": [],
      "collapsed_sections": [],
      "include_colab_link": true
    },
    "kernelspec": {
      "name": "python3",
      "display_name": "Python 3"
    },
    "accelerator": "GPU"
  },
  "cells": [
    {
      "cell_type": "markdown",
      "metadata": {
        "id": "view-in-github",
        "colab_type": "text"
      },
      "source": [
        "<a href=\"https://colab.research.google.com/github/erickTornero/Generating-captcha-VAE/blob/master/Generating_captcha_noisy.ipynb\" target=\"_parent\"><img src=\"https://colab.research.google.com/assets/colab-badge.svg\" alt=\"Open In Colab\"/></a>"
      ]
    },
    {
      "metadata": {
        "id": "yZNyLPYJGAJS",
        "colab_type": "code",
        "colab": {}
      },
      "cell_type": "code",
      "source": [
        "import numpy as np\n",
        "import tensorflow as tf\n",
        "from PIL import Image\n",
        "import matplotlib.pyplot as plt\n",
        "%matplotlib inline\n",
        "import imutils\n",
        "np.random.seed(0)\n",
        "tf.set_random_seed(0)"
      ],
      "execution_count": 0,
      "outputs": []
    },
    {
      "metadata": {
        "id": "ddTbI57u4jd5",
        "colab_type": "text"
      },
      "cell_type": "markdown",
      "source": [
        ""
      ]
    },
    {
      "metadata": {
        "id": "9rniwyDsGSO0",
        "colab_type": "code",
        "outputId": "fdcf6ecf-e6e0-4dc6-e91b-f8500d0a05de",
        "colab": {
          "base_uri": "https://localhost:8080/",
          "height": 85
        }
      },
      "cell_type": "code",
      "source": [
        "# Load MNIST data in a format suited for tensorflow.\n",
        "# The script input_data is available under this URL:\n",
        "# https://raw.githubusercontent.com/tensorflow/tensorflow/master/tensorflow/examples/tutorials/mnist/input_data.py\n",
        "from tensorflow.examples.tutorials.mnist import input_data\n",
        "mnist = input_data.read_data_sets('MNIST_data', one_hot=True)\n",
        "n_samples = mnist.train.num_examples"
      ],
      "execution_count": 51,
      "outputs": [
        {
          "output_type": "stream",
          "text": [
            "Extracting MNIST_data/train-images-idx3-ubyte.gz\n",
            "Extracting MNIST_data/train-labels-idx1-ubyte.gz\n",
            "Extracting MNIST_data/t10k-images-idx3-ubyte.gz\n",
            "Extracting MNIST_data/t10k-labels-idx1-ubyte.gz\n"
          ],
          "name": "stdout"
        }
      ]
    },
    {
      "metadata": {
        "id": "4dzoZLpqGYyc",
        "colab_type": "code",
        "colab": {}
      },
      "cell_type": "code",
      "source": [
        "def xavier_init(fan_in, fan_out, constant=1): \n",
        "    \"\"\" Xavier initialization of network weights\"\"\"\n",
        "    # https://stackoverflow.com/questions/33640581/how-to-do-xavier-initialization-on-tensorflow\n",
        "    low = -constant*np.sqrt(6.0/(fan_in + fan_out)) \n",
        "    high = constant*np.sqrt(6.0/(fan_in + fan_out))\n",
        "    return tf.random_uniform((fan_in, fan_out), \n",
        "                             minval=low, maxval=high, \n",
        "                             dtype=tf.float32)"
      ],
      "execution_count": 0,
      "outputs": []
    },
    {
      "metadata": {
        "id": "fFdHSxsUGybd",
        "colab_type": "code",
        "colab": {}
      },
      "cell_type": "code",
      "source": [
        "class VariationalAutoencoder(object):\n",
        "    \"\"\" Variation Autoencoder (VAE) with an sklearn-like interface implemented using TensorFlow.\n",
        "    \n",
        "    This implementation uses probabilistic encoders and decoders using Gaussian \n",
        "    distributions and  realized by multi-layer perceptrons. The VAE can be learned\n",
        "    end-to-end.\n",
        "    \n",
        "    See \"Auto-Encoding Variational Bayes\" by Kingma and Welling for more details.\n",
        "    \"\"\"\n",
        "    def __init__(self, network_architecture, transfer_fct=tf.nn.softplus, \n",
        "                 learning_rate=0.001, batch_size=100):\n",
        "        self.network_architecture = network_architecture\n",
        "        self.transfer_fct = transfer_fct\n",
        "        self.learning_rate = learning_rate\n",
        "        self.batch_size = batch_size\n",
        "        \n",
        "        # tf Graph input\n",
        "        self.x = tf.placeholder(tf.float32, [None, network_architecture[\"n_input\"]])\n",
        "        \n",
        "        # Create autoencoder network\n",
        "        self._create_network()\n",
        "        # Define loss function based variational upper-bound and \n",
        "        # corresponding optimizer\n",
        "        self._create_loss_optimizer()\n",
        "        \n",
        "        # Initializing the tensor flow variables\n",
        "        init = tf.global_variables_initializer()\n",
        "\n",
        "        # Launch the session\n",
        "        self.sess = tf.InteractiveSession()\n",
        "        self.sess.run(init)\n",
        "    \n",
        "    def _create_network(self):\n",
        "        # Initialize autoencode network weights and biases\n",
        "        network_weights = self._initialize_weights(**self.network_architecture)\n",
        "\n",
        "        # Use recognition network to determine mean and \n",
        "        # (log) variance of Gaussian distribution in latent\n",
        "        # space\n",
        "        self.z_mean, self.z_log_sigma_sq = \\\n",
        "            self._recognition_network(network_weights[\"weights_recog\"], \n",
        "                                      network_weights[\"biases_recog\"])\n",
        "\n",
        "        # Draw one sample z from Gaussian distribution\n",
        "        n_z = self.network_architecture[\"n_z\"]\n",
        "        eps = tf.random_normal((self.batch_size, n_z), 0, 1, \n",
        "                               dtype=tf.float32)\n",
        "        # z = mu + sigma*epsilon\n",
        "        self.z = tf.add(self.z_mean, \n",
        "                        tf.multiply(tf.sqrt(tf.exp(self.z_log_sigma_sq)), eps))\n",
        "\n",
        "        # Use generator to determine mean of\n",
        "        # Bernoulli distribution of reconstructed input\n",
        "        self.x_reconstr_mean = \\\n",
        "            self._generator_network(network_weights[\"weights_gener\"],\n",
        "                                    network_weights[\"biases_gener\"])\n",
        "            \n",
        "    def _initialize_weights(self, n_hidden_recog_1, n_hidden_recog_2, \n",
        "                            n_hidden_gener_1,  n_hidden_gener_2, \n",
        "                            n_input, n_z):\n",
        "        all_weights = dict()\n",
        "        all_weights['weights_recog'] = {\n",
        "            'h1': tf.Variable(xavier_init(n_input, n_hidden_recog_1)),\n",
        "            'h2': tf.Variable(xavier_init(n_hidden_recog_1, n_hidden_recog_2)),\n",
        "            'out_mean': tf.Variable(xavier_init(n_hidden_recog_2, n_z)),\n",
        "            'out_log_sigma': tf.Variable(xavier_init(n_hidden_recog_2, n_z))}\n",
        "        all_weights['biases_recog'] = {\n",
        "            'b1': tf.Variable(tf.zeros([n_hidden_recog_1], dtype=tf.float32)),\n",
        "            'b2': tf.Variable(tf.zeros([n_hidden_recog_2], dtype=tf.float32)),\n",
        "            'out_mean': tf.Variable(tf.zeros([n_z], dtype=tf.float32)),\n",
        "            'out_log_sigma': tf.Variable(tf.zeros([n_z], dtype=tf.float32))}\n",
        "        all_weights['weights_gener'] = {\n",
        "            'h1': tf.Variable(xavier_init(n_z, n_hidden_gener_1)),\n",
        "            'h2': tf.Variable(xavier_init(n_hidden_gener_1, n_hidden_gener_2)),\n",
        "            'out_mean': tf.Variable(xavier_init(n_hidden_gener_2, n_input)),\n",
        "            'out_log_sigma': tf.Variable(xavier_init(n_hidden_gener_2, n_input))}\n",
        "        all_weights['biases_gener'] = {\n",
        "            'b1': tf.Variable(tf.zeros([n_hidden_gener_1], dtype=tf.float32)),\n",
        "            'b2': tf.Variable(tf.zeros([n_hidden_gener_2], dtype=tf.float32)),\n",
        "            'out_mean': tf.Variable(tf.zeros([n_input], dtype=tf.float32)),\n",
        "            'out_log_sigma': tf.Variable(tf.zeros([n_input], dtype=tf.float32))}\n",
        "        return all_weights\n",
        "            \n",
        "    def _recognition_network(self, weights, biases):\n",
        "        # Generate probabilistic encoder (recognition network), which\n",
        "        # maps inputs onto a normal distribution in latent space.\n",
        "        # The transformation is parametrized and can be learned.\n",
        "        layer_1 = self.transfer_fct(tf.add(tf.matmul(self.x, weights['h1']), \n",
        "                                           biases['b1'])) \n",
        "        layer_2 = self.transfer_fct(tf.add(tf.matmul(layer_1, weights['h2']), \n",
        "                                           biases['b2'])) \n",
        "        z_mean = tf.add(tf.matmul(layer_2, weights['out_mean']),\n",
        "                        biases['out_mean'])\n",
        "        z_log_sigma_sq = \\\n",
        "            tf.add(tf.matmul(layer_2, weights['out_log_sigma']), \n",
        "                   biases['out_log_sigma'])\n",
        "        return (z_mean, z_log_sigma_sq)\n",
        "\n",
        "    def _generator_network(self, weights, biases):\n",
        "        # Generate probabilistic decoder (decoder network), which\n",
        "        # maps points in latent space onto a Bernoulli distribution in data space.\n",
        "        # The transformation is parametrized and can be learned.\n",
        "        layer_1 = self.transfer_fct(tf.add(tf.matmul(self.z, weights['h1']), \n",
        "                                           biases['b1'])) \n",
        "        layer_2 = self.transfer_fct(tf.add(tf.matmul(layer_1, weights['h2']), \n",
        "                                           biases['b2'])) \n",
        "        x_reconstr_mean = \\\n",
        "            tf.nn.sigmoid(tf.add(tf.matmul(layer_2, weights['out_mean']), \n",
        "                                 biases['out_mean']))\n",
        "        return x_reconstr_mean\n",
        "            \n",
        "    def _create_loss_optimizer(self):\n",
        "        # The loss is composed of two terms:\n",
        "        # 1.) The reconstruction loss (the negative log probability\n",
        "        #     of the input under the reconstructed Bernoulli distribution \n",
        "        #     induced by the decoder in the data space).\n",
        "        #     This can be interpreted as the number of \"nats\" required\n",
        "        #     for reconstructing the input when the activation in latent\n",
        "        #     is given.\n",
        "        # Adding 1e-10 to avoid evaluation of log(0.0)\n",
        "        reconstr_loss = \\\n",
        "            -tf.reduce_sum(self.x * tf.log(1e-10 + self.x_reconstr_mean)\n",
        "                           + (1-self.x) * tf.log(1e-10 + 1 - self.x_reconstr_mean),\n",
        "                           1)\n",
        "        # 2.) The latent loss, which is defined as the Kullback Leibler divergence \n",
        "        ##    between the distribution in latent space induced by the encoder on \n",
        "        #     the data and some prior. This acts as a kind of regularizer.\n",
        "        #     This can be interpreted as the number of \"nats\" required\n",
        "        #     for transmitting the the latent space distribution given\n",
        "        #     the prior.\n",
        "        latent_loss = -0.5 * tf.reduce_sum(1 + self.z_log_sigma_sq \n",
        "                                           - tf.square(self.z_mean) \n",
        "                                           - tf.exp(self.z_log_sigma_sq), 1)\n",
        "        self.cost = tf.reduce_mean(reconstr_loss + latent_loss)   # average over batch\n",
        "        # Use ADAM optimizer\n",
        "        self.optimizer = \\\n",
        "            tf.train.AdamOptimizer(learning_rate=self.learning_rate).minimize(self.cost)\n",
        "        \n",
        "    def partial_fit(self, X):\n",
        "        \"\"\"Train model based on mini-batch of input data.\n",
        "        \n",
        "        Return cost of mini-batch.\n",
        "        \"\"\"\n",
        "        opt, cost = self.sess.run((self.optimizer, self.cost), \n",
        "                                  feed_dict={self.x: X})\n",
        "        return cost\n",
        "    \n",
        "    def transform(self, X):\n",
        "        \"\"\"Transform data by mapping it into the latent space.\"\"\"\n",
        "        # Note: This maps to mean of distribution, we could alternatively\n",
        "        # sample from Gaussian distribution\n",
        "        return self.sess.run(self.z_mean, feed_dict={self.x: X})\n",
        "    \n",
        "    def generate(self, z_mu=None):\n",
        "        \"\"\" Generate data by sampling from latent space.\n",
        "        \n",
        "        If z_mu is not None, data for this point in latent space is\n",
        "        generated. Otherwise, z_mu is drawn from prior in latent \n",
        "        space.        \n",
        "        \"\"\"\n",
        "        if z_mu is None:\n",
        "            z_mu = np.random.normal(size=self.network_architecture[\"n_z\"])\n",
        "        # Note: This maps to mean of distribution, we could alternatively\n",
        "        # sample from Gaussian distribution\n",
        "        return self.sess.run(self.x_reconstr_mean, \n",
        "                             feed_dict={self.z: z_mu})\n",
        "    \n",
        "    def reconstruct(self, X):\n",
        "        \"\"\" Use VAE to reconstruct given data. \"\"\"\n",
        "        return self.sess.run(self.x_reconstr_mean, \n",
        "                             feed_dict={self.x: X})"
      ],
      "execution_count": 0,
      "outputs": []
    },
    {
      "metadata": {
        "id": "FMD6lwE1G4Ch",
        "colab_type": "code",
        "colab": {}
      },
      "cell_type": "code",
      "source": [
        "def train(network_architecture, learning_rate=0.001,\n",
        "          batch_size=100, training_epochs=10, display_step=5):\n",
        "    vae = VariationalAutoencoder(network_architecture, \n",
        "                                 learning_rate=learning_rate, \n",
        "                                 batch_size=batch_size)\n",
        "    # Training cycle\n",
        "    for epoch in range(training_epochs):\n",
        "        avg_cost = 0.\n",
        "        total_batch = int(n_samples / batch_size)\n",
        "        # Loop over all batches\n",
        "        for i in range(total_batch):\n",
        "            batch_xs, _ = mnist.train.next_batch(batch_size)\n",
        "\n",
        "            # Fit training using batch data\n",
        "            cost = vae.partial_fit(batch_xs)\n",
        "            # Compute average loss\n",
        "            avg_cost += cost / n_samples * batch_size\n",
        "\n",
        "        # Display logs per epoch step\n",
        "        if epoch % display_step == 0:\n",
        "            print(\"Epoch:\", '%04d' % (epoch+1), \n",
        "                  \"cost=\", \"{:.9f}\".format(avg_cost))\n",
        "    return vae"
      ],
      "execution_count": 0,
      "outputs": []
    },
    {
      "metadata": {
        "id": "jindAe2tG8CC",
        "colab_type": "code",
        "outputId": "12f97cf0-6057-47ac-e410-4ae9ba39eae9",
        "colab": {
          "base_uri": "https://localhost:8080/",
          "height": 326
        }
      },
      "cell_type": "code",
      "source": [
        "network_architecture = \\\n",
        "    dict(n_hidden_recog_1=500, # 1st layer encoder neurons\n",
        "         n_hidden_recog_2=500, # 2nd layer encoder neurons\n",
        "         n_hidden_gener_1=500, # 1st layer decoder neurons\n",
        "         n_hidden_gener_2=500, # 2nd layer decoder neurons\n",
        "         n_input=784, # MNIST data input (img shape: 28*28)\n",
        "         n_z=20)  # dimensionality of latent space\n",
        "\n",
        "vae = train(network_architecture, training_epochs=75)"
      ],
      "execution_count": 55,
      "outputs": [
        {
          "output_type": "stream",
          "text": [
            "/usr/local/lib/python3.6/dist-packages/tensorflow/python/client/session.py:1702: UserWarning: An interactive session is already active. This can cause out-of-memory errors in some cases. You must explicitly call `InteractiveSession.close()` to release resources held by the other session(s).\n",
            "  warnings.warn('An interactive session is already active. This can '\n"
          ],
          "name": "stderr"
        },
        {
          "output_type": "stream",
          "text": [
            "Epoch: 0001 cost= 175.368468628\n",
            "Epoch: 0006 cost= 109.210152768\n",
            "Epoch: 0011 cost= 104.638360110\n",
            "Epoch: 0016 cost= 102.472355055\n",
            "Epoch: 0021 cost= 101.051062858\n",
            "Epoch: 0026 cost= 100.006190865\n",
            "Epoch: 0031 cost= 99.189707780\n",
            "Epoch: 0036 cost= 98.398638819\n",
            "Epoch: 0041 cost= 97.816685944\n",
            "Epoch: 0046 cost= 97.225430922\n",
            "Epoch: 0051 cost= 96.704686127\n",
            "Epoch: 0056 cost= 96.284708349\n",
            "Epoch: 0061 cost= 95.875955339\n",
            "Epoch: 0066 cost= 95.614130152\n",
            "Epoch: 0071 cost= 95.298529719\n"
          ],
          "name": "stdout"
        }
      ]
    },
    {
      "metadata": {
        "id": "2omDdaKoHBUX",
        "colab_type": "code",
        "outputId": "db4f881e-694b-43a0-d624-49d671f34d4e",
        "colab": {
          "base_uri": "https://localhost:8080/",
          "height": 310
        }
      },
      "cell_type": "code",
      "source": [
        "# An example of reconstruction given an input\n",
        "x_sample = mnist.test.next_batch(100)[0]\n",
        "x_reconstruct = vae.reconstruct(x_sample)\n",
        "\n",
        "plt.figure(figsize=(8, 20))\n",
        "for i in range(1):\n",
        "\n",
        "    plt.subplot(5, 2, 2*i + 1)\n",
        "    plt.imshow(x_sample[i].reshape(28, 28), vmin=0, vmax=1, cmap=\"gray\")\n",
        "    plt.title(\"Test input\")\n",
        "    plt.colorbar()\n",
        "    plt.subplot(5, 2, 2*i + 2)\n",
        "    plt.imshow(x_reconstruct[i].reshape(28, 28), vmin=0, vmax=1, cmap=\"gray\")\n",
        "    plt.title(\"Reconstruction\")\n",
        "    plt.colorbar()\n",
        "plt.tight_layout()"
      ],
      "execution_count": 56,
      "outputs": [
        {
          "output_type": "display_data",
          "data": {
            "image/png": "[encoded data removed]",
            "text/plain": [
              "<Figure size 576x1440 with 4 Axes>"
            ]
          },
          "metadata": {
            "tags": []
          }
        }
      ]
    },
    {
      "metadata": {
        "id": "4PPjWr8RT3E7",
        "colab_type": "code",
        "outputId": "200e3890-5ff4-4cc2-9ba7-2146c653de62",
        "colab": {
          "base_uri": "https://localhost:8080/",
          "height": 34
        }
      },
      "cell_type": "code",
      "source": [
        "mnist.train.images.shape"
      ],
      "execution_count": 57,
      "outputs": [
        {
          "output_type": "execute_result",
          "data": {
            "text/plain": [
              "(55000, 784)"
            ]
          },
          "metadata": {
            "tags": []
          },
          "execution_count": 57
        }
      ]
    },
    {
      "metadata": {
        "id": "AY2kYHNAUtud",
        "colab_type": "code",
        "colab": {}
      },
      "cell_type": "code",
      "source": [
        "im1 = mnist.test.images[0]"
      ],
      "execution_count": 0,
      "outputs": []
    },
    {
      "metadata": {
        "id": "vpRuP6_4Y2IM",
        "colab_type": "code",
        "colab": {}
      },
      "cell_type": "code",
      "source": [
        "lb1 = mnist.test.labels[0]"
      ],
      "execution_count": 0,
      "outputs": []
    },
    {
      "metadata": {
        "id": "kwkvzVdfY5Bx",
        "colab_type": "code",
        "outputId": "50c48273-a6da-43b1-d295-aa46c908a63b",
        "colab": {
          "base_uri": "https://localhost:8080/",
          "height": 282
        }
      },
      "cell_type": "code",
      "source": [
        "plt.imshow(im1.reshape(28, 28), vmin=0, vmax=1, cmap=\"gray\")"
      ],
      "execution_count": 60,
      "outputs": [
        {
          "output_type": "execute_result",
          "data": {
            "text/plain": [
              "<matplotlib.image.AxesImage at 0x7f7d7db825c0>"
            ]
          },
          "metadata": {
            "tags": []
          },
          "execution_count": 60
        },
        {
          "output_type": "display_data",
          "data": {
            "image/png": "[encoded data removed]",
            "text/plain": [
              "<Figure size 432x288 with 1 Axes>"
            ]
          },
          "metadata": {
            "tags": []
          }
        }
      ]
    },
    {
      "metadata": {
        "id": "6eAkgwE1ZgMs",
        "colab_type": "code",
        "colab": {}
      },
      "cell_type": "code",
      "source": [
        "# From one hot representation to decimal\n",
        "# args: onehot-> list or vector array\n",
        "# array([0., 0., 0., 0., 0., 0., 0., 0., 0., 1.])  --> 9\n",
        "def OneHot2Dec(onehot):\n",
        "  for idx in range(0, len(onehot)):\n",
        "    if onehot[idx] == 1:\n",
        "      return idx"
      ],
      "execution_count": 0,
      "outputs": []
    },
    {
      "metadata": {
        "id": "MUx_qTvKalXm",
        "colab_type": "code",
        "outputId": "dfa78397-11a5-499c-8a97-36e19a134dd8",
        "colab": {
          "base_uri": "https://localhost:8080/",
          "height": 51
        }
      },
      "cell_type": "code",
      "source": [
        "print(lb1)\n",
        "OneHot2Dec(lb1)"
      ],
      "execution_count": 62,
      "outputs": [
        {
          "output_type": "stream",
          "text": [
            "[0. 0. 0. 0. 1. 0. 0. 0. 0. 0.]\n"
          ],
          "name": "stdout"
        },
        {
          "output_type": "execute_result",
          "data": {
            "text/plain": [
              "4"
            ]
          },
          "metadata": {
            "tags": []
          },
          "execution_count": 62
        }
      ]
    },
    {
      "metadata": {
        "id": "PoruKKMXcGgl",
        "colab_type": "code",
        "colab": {}
      },
      "cell_type": "code",
      "source": [
        "# Collect Samples of a number from a set of images given its labels\n",
        "# This collection will be sampled randomly, the elected image will be pass through the VAE to generate a new image\n",
        "def CollectSamplesOfNumber(images, labels, number, nsamples):\n",
        "  length = images.shape[0]\n",
        "  ncollected = 0\n",
        "  im_elected = list()\n",
        "  lb_elected = list()\n",
        "  while ncollected < nsamples:\n",
        "    indx_rndn = np.random.randint(0, length)\n",
        "    if OneHot2Dec(labels[indx_rndn]) == number:\n",
        "      ncollected = ncollected + 1\n",
        "      im_elected.append(images[indx_rndn])\n",
        "      lb_elected.append(labels[indx_rndn])\n",
        "      \n",
        "  return im_elected, lb_elected"
      ],
      "execution_count": 0,
      "outputs": []
    },
    {
      "metadata": {
        "id": "fy99QcmRcoGI",
        "colab_type": "code",
        "colab": {}
      },
      "cell_type": "code",
      "source": [
        "# Example Select test images of Ones\n",
        "I1, L1 = CollectSamplesOfNumber(mnist.test.images, mnist.test.labels, 3, 40)"
      ],
      "execution_count": 0,
      "outputs": []
    },
    {
      "metadata": {
        "id": "NgWETk9PewXb",
        "colab_type": "code",
        "outputId": "2a32020a-52d7-4682-d84c-bd6821d12f1d",
        "colab": {
          "base_uri": "https://localhost:8080/",
          "height": 282
        }
      },
      "cell_type": "code",
      "source": [
        "plt.imshow(I1[0].reshape(28, 28), vmin=0, vmax=1, cmap=\"gray\")"
      ],
      "execution_count": 65,
      "outputs": [
        {
          "output_type": "execute_result",
          "data": {
            "text/plain": [
              "<matplotlib.image.AxesImage at 0x7f7d7dc784a8>"
            ]
          },
          "metadata": {
            "tags": []
          },
          "execution_count": 65
        },
        {
          "output_type": "display_data",
          "data": {
            "image/png": "[encoded data removed]",
            "text/plain": [
              "<Figure size 432x288 with 1 Axes>"
            ]
          },
          "metadata": {
            "tags": []
          }
        }
      ]
    },
    {
      "metadata": {
        "id": "vmDE0T_6gB2T",
        "colab_type": "code",
        "colab": {}
      },
      "cell_type": "code",
      "source": [
        "# Plot a list of Images of numbers contained in 'Im' in a matrix\n",
        "def PlotDistribution(Im, nx = 8, ny = 5):\n",
        "  #nx = 8\n",
        "  #ny = 5\n",
        "  canvas = np.empty((28*ny, 28*nx))\n",
        "  for indy in range(0, ny):\n",
        "    for indx in range(0, nx):\n",
        "      canvas[indy*28:(indy+1)*28, indx*28: (indx+1)*28] = Im[indy * 4 + indx].reshape(28,28)\n",
        "  plt.figure(figsize=(5, 8))\n",
        "  plt.imshow(canvas, origin=\"upper\", cmap=\"gray\")\n",
        "  plt.grid(False)\n",
        "  plt.tight_layout()\n",
        "  return canvas"
      ],
      "execution_count": 0,
      "outputs": []
    },
    {
      "metadata": {
        "id": "Yw_98migmiNP",
        "colab_type": "code",
        "colab": {}
      },
      "cell_type": "code",
      "source": [
        "# Build a table from 0 to 9\n",
        "def ComputeInputTables(images, labels, nsamples):\n",
        "  max_number = 9\n",
        "  images_elected = dict()\n",
        "  for number in range(0, max_number + 1):\n",
        "    Ix, _ = CollectSamplesOfNumber(images, labels, number, nsamples)\n",
        "    images_elected[number] = Ix\n",
        "    \n",
        "  return images_elected"
      ],
      "execution_count": 0,
      "outputs": []
    },
    {
      "metadata": {
        "id": "ojqLjKrdn-Zz",
        "colab_type": "code",
        "colab": {}
      },
      "cell_type": "code",
      "source": [
        "# Dictionary of samples the number as key\n",
        "# A collection of all the images structured in a dictionary, contains (40) images per each number reference as key with its proper number\n",
        "# im_input_elected[8] give us the collection of 40 images representing the number '8'\n",
        "# this variable will be used over all the notebook\n",
        "im_input_elected = ComputeInputTables(mnist.test.images, mnist.test.labels, 40)"
      ],
      "execution_count": 0,
      "outputs": []
    },
    {
      "metadata": {
        "id": "X2U5QXdZoIi4",
        "colab_type": "code",
        "outputId": "94678836-1f8f-48fe-a14b-03d63a3b6fb9",
        "colab": {
          "base_uri": "https://localhost:8080/",
          "height": 367
        }
      },
      "cell_type": "code",
      "source": [
        "PlotDistribution(im_input_elected[8])"
      ],
      "execution_count": 69,
      "outputs": [
        {
          "output_type": "execute_result",
          "data": {
            "text/plain": [
              "array([[0., 0., 0., ..., 0., 0., 0.],\n",
              "       [0., 0., 0., ..., 0., 0., 0.],\n",
              "       [0., 0., 0., ..., 0., 0., 0.],\n",
              "       ...,\n",
              "       [0., 0., 0., ..., 0., 0., 0.],\n",
              "       [0., 0., 0., ..., 0., 0., 0.],\n",
              "       [0., 0., 0., ..., 0., 0., 0.]])"
            ]
          },
          "metadata": {
            "tags": []
          },
          "execution_count": 69
        },
        {
          "output_type": "display_data",
          "data": {
            "image/png": "[encoded data removed]",
            "text/plain": [
              "<Figure size 360x576 with 1 Axes>"
            ]
          },
          "metadata": {
            "tags": []
          }
        }
      ]
    },
    {
      "metadata": {
        "id": "TcF8Vda-oLKA",
        "colab_type": "code",
        "colab": {}
      },
      "cell_type": "code",
      "source": [
        "# Given a number select randomly an image of input from im_input_elected\n",
        "def SelectRandomImage(container, number):\n",
        "  length = len(container[0])\n",
        "  randindx = np.random.randint(0, length)\n",
        "  return container[number][randindx]"
      ],
      "execution_count": 0,
      "outputs": []
    },
    {
      "metadata": {
        "id": "xB0GWauhqNy8",
        "colab_type": "code",
        "outputId": "19487b9b-fbf0-4241-fd69-a94aae68e508",
        "colab": {
          "base_uri": "https://localhost:8080/",
          "height": 282
        }
      },
      "cell_type": "code",
      "source": [
        "# Example of random elected image\n",
        "imrndn = SelectRandomImage(im_input_elected, 0)\n",
        "plt.imshow(imrndn.reshape(28, 28), vmin=0, vmax=1, cmap=\"gray\")"
      ],
      "execution_count": 71,
      "outputs": [
        {
          "output_type": "execute_result",
          "data": {
            "text/plain": [
              "<matplotlib.image.AxesImage at 0x7f7de4d78630>"
            ]
          },
          "metadata": {
            "tags": []
          },
          "execution_count": 71
        },
        {
          "output_type": "display_data",
          "data": {
            "image/png": "[encoded data removed]",
            "text/plain": [
              "<Figure size 432x288 with 1 Axes>"
            ]
          },
          "metadata": {
            "tags": []
          }
        }
      ]
    },
    {
      "metadata": {
        "id": "vifXlcAoqd4Y",
        "colab_type": "code",
        "outputId": "8a3f29b5-36ae-47c6-84af-b69cc4bb877c",
        "colab": {
          "base_uri": "https://localhost:8080/",
          "height": 179
        }
      },
      "cell_type": "code",
      "source": [
        "# Generate a reconstructed img\n",
        "#input_imgs = (SelectRandomImage(im_input_elected, 6), SelectRandomImage(im_input_elected, 9))\n",
        "input_imgs = np.zeros((100, 784))\n",
        "input_imgs[0] = SelectRandomImage(im_input_elected, 6)\n",
        "im_reconstructed = vae.reconstruct(input_imgs)[0]\n",
        "plt.figure(figsize=(8, 12))\n",
        "plt.subplot(5, 2, 2*0 + 1)\n",
        "plt.imshow(input_imgs[0].reshape(28, 28), vmin=0, vmax=1, cmap=\"gray\")\n",
        "plt.subplot(5, 2, 2*0 + 2)\n",
        "plt.imshow(im_reconstructed.reshape(28, 28), vmin=0, vmax=1, cmap=\"gray\")"
      ],
      "execution_count": 72,
      "outputs": [
        {
          "output_type": "execute_result",
          "data": {
            "text/plain": [
              "<matplotlib.image.AxesImage at 0x7f7d7ddfa550>"
            ]
          },
          "metadata": {
            "tags": []
          },
          "execution_count": 72
        },
        {
          "output_type": "display_data",
          "data": {
            "image/png": "[encoded data removed]",
            "text/plain": [
              "<Figure size 576x864 with 2 Axes>"
            ]
          },
          "metadata": {
            "tags": []
          }
        }
      ]
    },
    {
      "metadata": {
        "id": "2Pf6zHEayqMO",
        "colab_type": "code",
        "colab": {}
      },
      "cell_type": "code",
      "source": [
        "# Overview:\n",
        "# Generate a sequence of images of the digits from the 'number'\n",
        "# for example if 'number' = 1564, generate 4 images in that order [ Imagen(1), Imagen(5), Imagen(6), Imagen(4)]\n",
        "# This function is the started point to generate the captcha\n",
        "def GenerateSequenceNumbers(number, container, model):\n",
        "  # Get the digits\n",
        "  digits = list()\n",
        "  cocient = number\n",
        "  while cocient > 0:\n",
        "    res = cocient%10\n",
        "    digits.append(res)\n",
        "    cocient = int(cocient/10)\n",
        "  digits.reverse()\n",
        "  # Build the input tensor\n",
        "  inputs = np.zeros((100, 784))\n",
        "  for indx in range(0, len(digits)):\n",
        "    inputs[indx] = SelectRandomImage(container, digits[indx])\n",
        "  reconstructed = model.reconstruct(inputs)\n",
        "  imgs_ans = list()\n",
        "  for indx in range(0, len(digits)):\n",
        "    imgs_ans.append(reconstructed[indx])\n",
        "  return imgs_ans"
      ],
      "execution_count": 0,
      "outputs": []
    },
    {
      "metadata": {
        "id": "-t6rUF-vzQJO",
        "colab_type": "code",
        "outputId": "e72daf3c-5c5e-4b3c-df7a-fbaf99a1699f",
        "colab": {
          "base_uri": "https://localhost:8080/",
          "height": 250
        }
      },
      "cell_type": "code",
      "source": [
        "# 'generated' is a list of images generated by the VAE each element is a row of type np.narray of shape(784, )\n",
        "generated = GenerateSequenceNumbers(6574, im_input_elected, vae)\n",
        "PlotDistribution(generated, nx = len(generated), ny = 1)"
      ],
      "execution_count": 74,
      "outputs": [
        {
          "output_type": "execute_result",
          "data": {
            "text/plain": [
              "array([[0., 0., 0., ..., 0., 0., 0.],\n",
              "       [0., 0., 0., ..., 0., 0., 0.],\n",
              "       [0., 0., 0., ..., 0., 0., 0.],\n",
              "       ...,\n",
              "       [0., 0., 0., ..., 0., 0., 0.],\n",
              "       [0., 0., 0., ..., 0., 0., 0.],\n",
              "       [0., 0., 0., ..., 0., 0., 0.]])"
            ]
          },
          "metadata": {
            "tags": []
          },
          "execution_count": 74
        },
        {
          "output_type": "display_data",
          "data": {
            "image/png": "[encoded data removed]",
            "text/plain": [
              "<Figure size 360x576 with 1 Axes>"
            ]
          },
          "metadata": {
            "tags": []
          }
        }
      ]
    },
    {
      "metadata": {
        "id": "rZSomWY568uW",
        "colab_type": "code",
        "colab": {}
      },
      "cell_type": "code",
      "source": [
        ""
      ],
      "execution_count": 0,
      "outputs": []
    },
    {
      "metadata": {
        "id": "8N6_Z-nJCjXq",
        "colab_type": "text"
      },
      "cell_type": "markdown",
      "source": [
        "## Processing the numbers, distortion, etc\n",
        "\n",
        "Random Color"
      ]
    },
    {
      "metadata": {
        "id": "3r5lOvAtCofh",
        "colab_type": "code",
        "colab": {}
      },
      "cell_type": "code",
      "source": [
        "import cv2"
      ],
      "execution_count": 0,
      "outputs": []
    },
    {
      "metadata": {
        "id": "BMEhQ5H4mqkv",
        "colab_type": "code",
        "colab": {}
      },
      "cell_type": "code",
      "source": [
        "# Exploring ..."
      ],
      "execution_count": 0,
      "outputs": []
    },
    {
      "metadata": {
        "id": "pIyO9r7tE8WJ",
        "colab_type": "code",
        "colab": {}
      },
      "cell_type": "code",
      "source": [
        "imex = np.ndarray((28, 28, 3), dtype=float)"
      ],
      "execution_count": 0,
      "outputs": []
    },
    {
      "metadata": {
        "id": "vVZrK3eoL6Y0",
        "colab_type": "code",
        "colab": {}
      },
      "cell_type": "code",
      "source": [
        "imex[:,:,0] = generated[0].reshape(28,28)*0.90"
      ],
      "execution_count": 0,
      "outputs": []
    },
    {
      "metadata": {
        "id": "8062bBYcScE5",
        "colab_type": "code",
        "colab": {}
      },
      "cell_type": "code",
      "source": [
        "imex[:,:,1] = generated[0].reshape(28,28)*0.20"
      ],
      "execution_count": 0,
      "outputs": []
    },
    {
      "metadata": {
        "id": "5VpQKkbGi3mO",
        "colab_type": "code",
        "colab": {}
      },
      "cell_type": "code",
      "source": [
        "imex[:,:,2] = generated[0].reshape(28,28)*0.1"
      ],
      "execution_count": 0,
      "outputs": []
    },
    {
      "metadata": {
        "id": "5R_1zvC5i7RG",
        "colab_type": "code",
        "outputId": "c83e255a-6d2e-4d57-ff2b-f97448e889a5",
        "colab": {
          "base_uri": "https://localhost:8080/",
          "height": 282
        }
      },
      "cell_type": "code",
      "source": [
        "plt.imshow(imex, vmin=0, vmax=1)"
      ],
      "execution_count": 81,
      "outputs": [
        {
          "output_type": "execute_result",
          "data": {
            "text/plain": [
              "<matplotlib.image.AxesImage at 0x7f7d7de0c780>"
            ]
          },
          "metadata": {
            "tags": []
          },
          "execution_count": 81
        },
        {
          "output_type": "display_data",
          "data": {
            "image/png": "[encoded data removed]",
            "text/plain": [
              "<Figure size 432x288 with 1 Axes>"
            ]
          },
          "metadata": {
            "tags": []
          }
        }
      ]
    },
    {
      "metadata": {
        "id": "YKxo8NsAjQP2",
        "colab_type": "code",
        "colab": {}
      },
      "cell_type": "code",
      "source": [
        "# Color a list of grayscale images, with rgb generated randomly\n",
        "def ColorListImagesRandomly(list_images):\n",
        "  coloredImages = list()\n",
        "  for idx in range(0, len(list_images)):\n",
        "    # Generate the RGB proportions\n",
        "    col = np.random.rand(3)\n",
        "    tmpim = np.ndarray((28, 28, 3), dtype=float)\n",
        "    tmpim[:,:,0] = list_images[idx].reshape(28,28)*col[0]\n",
        "    tmpim[:,:,1] = list_images[idx].reshape(28,28)*col[1]\n",
        "    tmpim[:,:,2] = list_images[idx].reshape(28,28)*col[2]\n",
        "    coloredImages.append(tmpim)\n",
        "  return coloredImages"
      ],
      "execution_count": 0,
      "outputs": []
    },
    {
      "metadata": {
        "id": "exfy8VNVlRFz",
        "colab_type": "code",
        "colab": {}
      },
      "cell_type": "code",
      "source": [
        "# Plot a list of Images-RGB of numbers contained in 'Im' in a matrix\n",
        "def PlotDistributionRGB(Im, nx = 8, ny = 5):\n",
        "  #nx = 8\n",
        "  #ny = 5\n",
        "  canvas = np.empty((28*ny, 28*nx, 3))\n",
        "  for indy in range(0, ny):\n",
        "    for indx in range(0, nx):\n",
        "      canvas[indy*28:(indy+1)*28, indx*28: (indx+1)*28,:] = Im[indy * 4 + indx]\n",
        "  plt.figure(figsize=(5, 8))\n",
        "  plt.imshow(canvas, origin=\"upper\")\n",
        "  plt.grid(False)\n",
        "  plt.tight_layout()"
      ],
      "execution_count": 0,
      "outputs": []
    },
    {
      "metadata": {
        "id": "IfZc1o5wmGs-",
        "colab_type": "code",
        "colab": {}
      },
      "cell_type": "code",
      "source": [
        "def PlotDistributionRGB_2(Im, nx = 8, ny = 5):\n",
        "  #nx = 8\n",
        "  #ny = 5\n",
        "  canvas = np.empty((28*ny, 28*nx, 3))\n",
        "  for indy in range(0, ny):\n",
        "    for indx in range(0, nx):\n",
        "      canvas[indy*28:(indy+1)*28, indx*28: (indx+1)*28,:] = Im[indy * 4 + indx]\n",
        "  plt.figure(figsize=(5, 8))\n",
        "  plt.imshow(canvas, origin=\"upper\")\n",
        "  plt.grid(False)\n",
        "  plt.tight_layout()\n",
        "  return canvas"
      ],
      "execution_count": 0,
      "outputs": []
    },
    {
      "metadata": {
        "id": "i9yH5Myal1FU",
        "colab_type": "code",
        "outputId": "9f4ddf3e-0d27-42ab-a941-32d77a7b072b",
        "colab": {
          "base_uri": "https://localhost:8080/",
          "height": 148
        }
      },
      "cell_type": "code",
      "source": [
        "# Color the list 'generated'\n",
        "ColoredIms = ColorListImagesRandomly(generated)\n",
        "print(len(ColoredIms))\n",
        "PlotDistributionRGB(ColoredIms, len(ColoredIms), 1)"
      ],
      "execution_count": 85,
      "outputs": [
        {
          "output_type": "stream",
          "text": [
            "4\n"
          ],
          "name": "stdout"
        },
        {
          "output_type": "display_data",
          "data": {
            "image/png": "[encoded data removed]",
            "text/plain": [
              "<Figure size 360x576 with 1 Axes>"
            ]
          },
          "metadata": {
            "tags": []
          }
        }
      ]
    },
    {
      "metadata": {
        "id": "n9CZg4lQnHmn",
        "colab_type": "text"
      },
      "cell_type": "markdown",
      "source": [
        "# Summary of function at the momment"
      ]
    },
    {
      "metadata": {
        "id": "243-wWulnF5R",
        "colab_type": "code",
        "outputId": "182e6bab-f342-443b-f3d5-8032404f3d61",
        "colab": {
          "base_uri": "https://localhost:8080/",
          "height": 297
        }
      },
      "cell_type": "code",
      "source": [
        "# 'generated' is a list of images generated by the VAE each element is a row of type np.narray of shape(784, )\n",
        "generated = GenerateSequenceNumbers(497, im_input_elected, vae)\n",
        "PlotDistribution(generated, nx = len(generated), ny = 1)\n",
        "# Color the list 'generated'\n",
        "ColoredIms = ColorListImagesRandomly(generated)\n",
        "PlotDistributionRGB(ColoredIms, len(ColoredIms), 1)"
      ],
      "execution_count": 86,
      "outputs": [
        {
          "output_type": "display_data",
          "data": {
            "image/png": "[encoded data removed]",
            "text/plain": [
              "<Figure size 360x576 with 1 Axes>"
            ]
          },
          "metadata": {
            "tags": []
          }
        },
        {
          "output_type": "display_data",
          "data": {
            "image/png": "[encoded data removed]",
            "text/plain": [
              "<Figure size 360x576 with 1 Axes>"
            ]
          },
          "metadata": {
            "tags": []
          }
        }
      ]
    },
    {
      "metadata": {
        "id": "EN_STbwInup9",
        "colab_type": "text"
      },
      "cell_type": "markdown",
      "source": [
        "# TODO list\n",
        "* add noise\n",
        "* rotate digits\n",
        "* translate digits\n",
        "* scale digits\n",
        "* add lines\n",
        "* etc"
      ]
    },
    {
      "metadata": {
        "id": "DKnBi95Um7ak",
        "colab_type": "text"
      },
      "cell_type": "markdown",
      "source": [
        "**NOISE** "
      ]
    },
    {
      "metadata": {
        "id": "hT29Z7z5n6Qx",
        "colab_type": "code",
        "colab": {}
      },
      "cell_type": "code",
      "source": [
        "#add noise \n",
        "def noisy(noise_typ,image):\n",
        "  if noise_typ == \"gauss\":\n",
        "      row,col,ch= image.shape\n",
        "      mean = 0\n",
        "      var = 0.1\n",
        "      sigma = var**0.5\n",
        "      gauss = np.random.normal(mean,sigma,(row,col,ch))\n",
        "      gauss = gauss.reshape(row,col,ch)\n",
        "      noisy = image + gauss\n",
        "      return noisy\n",
        "  elif noise_typ == \"s&p\":\n",
        "      row,col,ch = image.shape\n",
        "      s_vs_p = 0.5\n",
        "      amount = 0.004\n",
        "      out = np.copy(image)\n",
        "      # Salt mode\n",
        "      num_salt = np.ceil(amount * image.size * s_vs_p)\n",
        "      coords = [np.random.randint(0, i - 1, int(num_salt))\n",
        "              for i in image.shape]\n",
        "      out[coords] = 1\n",
        "\n",
        "      # Pepper mode\n",
        "      num_pepper = np.ceil(amount* image.size * (1. - s_vs_p))\n",
        "      coords = [np.random.randint(0, i - 1, int(num_pepper))\n",
        "              for i in image.shape]\n",
        "      out[coords] = 0\n",
        "      return out\n",
        "  elif noise_typ == \"poisson\":\n",
        "      vals = len(np.unique(image))\n",
        "      vals = 2 ** np.ceil(np.log2(vals))\n",
        "      noisy = np.random.poisson(image * vals) / float(vals)\n",
        "      return noisy\n",
        "  elif noise_typ ==\"speckle\":\n",
        "      row,col,ch = image.shape\n",
        "      gauss = np.random.randn(row,col,ch)\n",
        "      gauss = gauss.reshape(row,col,ch)        \n",
        "      noisy = image + image * gauss\n",
        "      return noisy"
      ],
      "execution_count": 0,
      "outputs": []
    },
    {
      "metadata": {
        "id": "4-OYqW1imRj7",
        "colab_type": "code",
        "colab": {
          "base_uri": "https://localhost:8080/",
          "height": 297
        },
        "outputId": "4bfc78aa-d43b-4f05-84ed-269c4f82bb34"
      },
      "cell_type": "code",
      "source": [
        "# 'generated' is a list of images generated by the VAE each element is a row of type np.narray of shape(784, )\n",
        "generated = GenerateSequenceNumbers(497, im_input_elected, vae)\n",
        "PlotDistribution(generated, nx = len(generated), ny = 1)\n",
        "# Color the list 'generated'\n",
        "ColoredIms = ColorListImagesRandomly(generated)\n",
        "image = PlotDistributionRGB_2(ColoredIms, len(ColoredIms), 1)"
      ],
      "execution_count": 88,
      "outputs": [
        {
          "output_type": "display_data",
          "data": {
            "image/png": "[encoded data removed]",
            "text/plain": [
              "<Figure size 360x576 with 1 Axes>"
            ]
          },
          "metadata": {
            "tags": []
          }
        },
        {
          "output_type": "display_data",
          "data": {
            "image/png": "[encoded data removed]",
            "text/plain": [
              "<Figure size 360x576 with 1 Axes>"
            ]
          },
          "metadata": {
            "tags": []
          }
        }
      ]
    },
    {
      "metadata": {
        "id": "-fi3ed6sa0rZ",
        "colab_type": "code",
        "colab": {
          "height": 196
        },
        "outputId": "b4fb7871-eb41-44fa-e5b2-e32310420a2b"
      },
      "cell_type": "code",
      "source": [
        "imageNoisy = noisy(\"gauss\",image)\n",
        "plt.imshow(imageNoisy, vmin=0, vmax=1)\n"
      ],
      "execution_count": 89,
      "outputs": [
        {
          "output_type": "stream",
          "text": [
            "Clipping input data to the valid range for imshow with RGB data ([0..1] for floats or [0..255] for integers).\n"
          ],
          "name": "stderr"
        },
        {
          "output_type": "execute_result",
          "data": {
            "text/plain": [
              "<matplotlib.image.AxesImage at 0x7f7d79b1d668>"
            ]
          },
          "metadata": {
            "tags": []
          },
          "execution_count": 89
        },
        {
          "output_type": "display_data",
          "data": {
            "image/png": "[encoded data removed]",
            "text/plain": [
              "<Figure size 432x288 with 1 Axes>"
            ]
          },
          "metadata": {
            "tags": []
          }
        }
      ]
    },
    {
      "metadata": {
        "id": "5Gg2ONTCmnJ7",
        "colab_type": "code",
        "colab": {
          "base_uri": "https://localhost:8080/",
          "height": 196
        },
        "outputId": "6bd9b350-5169-48dd-a24f-5743a2957b95"
      },
      "cell_type": "code",
      "source": [
        "imageNoisy = noisy(\"speckle\",image)\n",
        "plt.imshow(imageNoisy, vmin=0, vmax=1)"
      ],
      "execution_count": 90,
      "outputs": [
        {
          "output_type": "stream",
          "text": [
            "Clipping input data to the valid range for imshow with RGB data ([0..1] for floats or [0..255] for integers).\n"
          ],
          "name": "stderr"
        },
        {
          "output_type": "execute_result",
          "data": {
            "text/plain": [
              "<matplotlib.image.AxesImage at 0x7f7d79a1f080>"
            ]
          },
          "metadata": {
            "tags": []
          },
          "execution_count": 90
        },
        {
          "output_type": "display_data",
          "data": {
            "image/png": "[encoded data removed]",
            "text/plain": [
              "<Figure size 432x288 with 1 Axes>"
            ]
          },
          "metadata": {
            "tags": []
          }
        }
      ]
    },
    {
      "metadata": {
        "id": "5_vha-42nIQa",
        "colab_type": "text"
      },
      "cell_type": "markdown",
      "source": [
        "**ROTATE** "
      ]
    },
    {
      "metadata": {
        "id": "DkjJhCNxnFAk",
        "colab_type": "code",
        "colab": {
          "base_uri": "https://localhost:8080/",
          "height": 157
        },
        "outputId": "becace34-4a37-4329-a917-09d635f9e6ad"
      },
      "cell_type": "code",
      "source": [
        "# 'generated' is a list of images generated by the VAE each element is a row of type np.narray of shape(784, )\n",
        "generated = GenerateSequenceNumbers(497, im_input_elected, vae)\n",
        "image = PlotDistribution(generated, nx = len(generated), ny = 1)\n",
        "#ColoredIms = ColorListImagesRandomly(generated)\n",
        "#image = PlotDistributionRGB_2(ColoredIms, len(ColoredIms), 1)\n"
      ],
      "execution_count": 91,
      "outputs": [
        {
          "output_type": "display_data",
          "data": {
            "image/png": "[encoded data removed]",
            "text/plain": [
              "<Figure size 360x576 with 1 Axes>"
            ]
          },
          "metadata": {
            "tags": []
          }
        }
      ]
    },
    {
      "metadata": {
        "id": "QPXCCNi1sXlj",
        "colab_type": "code",
        "colab": {
          "base_uri": "https://localhost:8080/",
          "height": 179
        },
        "outputId": "fab9408f-4965-4b89-8b25-4e0b14398cf1"
      },
      "cell_type": "code",
      "source": [
        "img = Image.fromarray(image*255)\n",
        "#print(type(img))\n",
        "open_cv_image = np.array(img)\n",
        "arr = np.uint8(open_cv_image)\n",
        "np.invert(arr)\n",
        "\n",
        "#open_cv_image = np.array(img) \n",
        "#img = cv2.imread(img)\n",
        "#gray = cv2.cvtColor(image, cv2.COLOR_BGR2GRAY)\n",
        "#h,w = open_cv_image.shape\n",
        "#mat = cv.CreateMat(h, w, cv.CV_32FC3)\n",
        "#gra = cv.fromarray(mat)\n",
        "gray = cv2.GaussianBlur(arr, (3, 3), 0)\n",
        "#print(type(gray))\n",
        "edged = cv2.Canny(gray, 2, 20)\n",
        "plt.imshow(edged)\n"
      ],
      "execution_count": 207,
      "outputs": [
        {
          "output_type": "execute_result",
          "data": {
            "text/plain": [
              "<matplotlib.image.AxesImage at 0x7f7d7db07f98>"
            ]
          },
          "metadata": {
            "tags": []
          },
          "execution_count": 207
        },
        {
          "output_type": "display_data",
          "data": {
            "image/png": "[encoded data removed]",
            "text/plain": [
              "<Figure size 432x288 with 1 Axes>"
            ]
          },
          "metadata": {
            "tags": []
          }
        }
      ]
    },
    {
      "metadata": {
        "id": "bm-mGCNCHEnI",
        "colab_type": "code",
        "colab": {}
      },
      "cell_type": "code",
      "source": [
        "cnts = cv2.findContours(edged.copy(), cv2.RETR_EXTERNAL,\n",
        "\tcv2.CHAIN_APPROX_SIMPLE)\n",
        "cnts = imutils.grab_contours(cnts)"
      ],
      "execution_count": 0,
      "outputs": []
    },
    {
      "metadata": {
        "id": "uIez8WUcHU1r",
        "colab_type": "code",
        "colab": {}
      },
      "cell_type": "code",
      "source": [
        "# ensure at least one contour was found\n",
        "listresult = []\n",
        "for i in cnts:\n",
        "  if len(i) > 0:\n",
        "    # grab the largest contour, then draw a mask for the pill\n",
        "    #c = max(i, key=cv2.contourArea)\n",
        "    c = np.asarray(i)\n",
        "    mask = np.zeros(gray.shape, dtype=\"uint8\")\n",
        "    cv2.drawContours(mask, [c], -1, 255, -1)\n",
        "\n",
        "    # compute its bounding box of pill, then extract the ROI,\n",
        "    # and apply the mask\n",
        "    (x, y, w, h) = cv2.boundingRect(c)\n",
        "\n",
        "    imageROI = image[y:y + h, x:x + w]\n",
        "    maskROI = mask[y:y + h, x:x + w]\n",
        "    imageROI = cv2.bitwise_and(imageROI, imageROI,\n",
        "      mask=maskROI)\n",
        "    listresult.append(imageROI)\n",
        "  #print(cnts)\n",
        "  #print(\"---------------\")\n",
        "  #print(c)"
      ],
      "execution_count": 0,
      "outputs": []
    },
    {
      "metadata": {
        "id": "5Dm58riwHaXE",
        "colab_type": "code",
        "colab": {
          "base_uri": "https://localhost:8080/",
          "height": 179
        },
        "outputId": "821c7617-9ac6-4fd7-8ab7-fc1dc754bf2d"
      },
      "cell_type": "code",
      "source": [
        "  rotated = imutils.rotate(edged,10)\n",
        "  plt.imshow(rotated)"
      ],
      "execution_count": 260,
      "outputs": [
        {
          "output_type": "execute_result",
          "data": {
            "text/plain": [
              "<matplotlib.image.AxesImage at 0x7f7d72a6fb38>"
            ]
          },
          "metadata": {
            "tags": []
          },
          "execution_count": 260
        },
        {
          "output_type": "display_data",
          "data": {
            "image/png": "[encoded data removed]",
            "text/plain": [
              "<Figure size 432x288 with 1 Axes>"
            ]
          },
          "metadata": {
            "tags": []
          }
        }
      ]
    },
    {
      "metadata": {
        "id": "0RB4K_tBppFy",
        "colab_type": "code",
        "colab": {
          "base_uri": "https://localhost:8080/",
          "height": 179
        },
        "outputId": "663892bb-8257-4ff6-e663-b3dea83699af"
      },
      "cell_type": "code",
      "source": [
        "lineThickness = 1\n",
        "for i in range (0,3):\n",
        "  cv2.line(rotated, (0, i*10), (80, i*10), (255,255,255), lineThickness) \n",
        "plt.imshow(rotated)"
      ],
      "execution_count": 262,
      "outputs": [
        {
          "output_type": "execute_result",
          "data": {
            "text/plain": [
              "<matplotlib.image.AxesImage at 0x7f7d729a2860>"
            ]
          },
          "metadata": {
            "tags": []
          },
          "execution_count": 262
        },
        {
          "output_type": "display_data",
          "data": {
            "image/png": "[encoded data removed]",
            "text/plain": [
              "<Figure size 432x288 with 1 Axes>"
            ]
          },
          "metadata": {
            "tags": []
          }
        }
      ]
    }
  ]
}